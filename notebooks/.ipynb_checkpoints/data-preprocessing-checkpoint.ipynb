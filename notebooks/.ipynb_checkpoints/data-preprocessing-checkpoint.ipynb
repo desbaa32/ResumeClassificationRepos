{
 "cells": [
  {
   "cell_type": "markdown",
   "id": "57d88ade-ebd9-4a85-9046-1ac5ac649ecb",
   "metadata": {},
   "source": [
    "##                                      Projet IA :Classification de CV"
   ]
  },
  {
   "cell_type": "markdown",
   "id": "6d1b38ba-13ef-470c-bb0b-384b43c6784a",
   "metadata": {},
   "source": [
    "### Import and read data \n"
   ]
  },
  {
   "cell_type": "code",
   "execution_count": 10,
   "id": "057aeffb-33b8-44d9-a73e-3c5db8d9a984",
   "metadata": {},
   "outputs": [
    {
     "name": "stderr",
     "output_type": "stream",
     "text": [
      "[nltk_data] Downloading package stopwords to\n",
      "[nltk_data]     /home/tawfekh-d/nltk_data...\n",
      "[nltk_data]   Package stopwords is already up-to-date!\n",
      "[nltk_data] Downloading package punkt to /home/tawfekh-d/nltk_data...\n",
      "[nltk_data]   Package punkt is already up-to-date!\n",
      "[nltk_data] Downloading package wordnet to\n",
      "[nltk_data]     /home/tawfekh-d/nltk_data...\n",
      "[nltk_data]   Package wordnet is already up-to-date!\n",
      "[nltk_data] Downloading package averaged_perceptron_tagger to\n",
      "[nltk_data]     /home/tawfekh-d/nltk_data...\n",
      "[nltk_data]   Package averaged_perceptron_tagger is already up-to-\n",
      "[nltk_data]       date!\n",
      "[nltk_data] Downloading package universal_tagset to\n",
      "[nltk_data]     /home/tawfekh-d/nltk_data...\n",
      "[nltk_data]   Package universal_tagset is already up-to-date!\n"
     ]
    }
   ],
   "source": [
    "import re\n",
    "import sys\n",
    "import numpy as np\n",
    "import pandas as pd\n",
    "import matplotlib.pyplot as plt\n",
    "%matplotlib inline\n",
    "import seaborn as sns\n",
    "import nltk\n",
    "nltk.download('stopwords')\n",
    "nltk.download('punkt')\n",
    "nltk.download('wordnet')\n",
    "nltk.download('averaged_perceptron_tagger')\n",
    "nltk.download('universal_tagset')\n",
    "from nltk.corpus import stopwords\n",
    "from nltk.tokenize import word_tokenize\n",
    "from nltk.stem import PorterStemmer\n",
    "from nltk.stem import WordNetLemmatizer\n",
    "from nltk.tag import pos_tag\n",
    "from wordcloud import WordCloud, STOPWORDS, ImageColorGenerator"
   ]
  },
  {
   "cell_type": "code",
   "execution_count": 11,
   "id": "c06e3d70-3733-4b0d-9566-05ed21b0ccc3",
   "metadata": {},
   "outputs": [
    {
     "data": {
      "text/html": [
       "<div>\n",
       "<style scoped>\n",
       "    .dataframe tbody tr th:only-of-type {\n",
       "        vertical-align: middle;\n",
       "    }\n",
       "\n",
       "    .dataframe tbody tr th {\n",
       "        vertical-align: top;\n",
       "    }\n",
       "\n",
       "    .dataframe thead th {\n",
       "        text-align: right;\n",
       "    }\n",
       "</style>\n",
       "<table border=\"1\" class=\"dataframe\">\n",
       "  <thead>\n",
       "    <tr style=\"text-align: right;\">\n",
       "      <th></th>\n",
       "      <th>Unnamed: 0</th>\n",
       "      <th>Resume</th>\n",
       "      <th>Category</th>\n",
       "    </tr>\n",
       "  </thead>\n",
       "  <tbody>\n",
       "    <tr>\n",
       "      <th>0</th>\n",
       "      <td>0</td>\n",
       "      <td>HR ADMINISTRATOR/MARKETING ASSOCIATE\\...</td>\n",
       "      <td>HR</td>\n",
       "    </tr>\n",
       "    <tr>\n",
       "      <th>1</th>\n",
       "      <td>1</td>\n",
       "      <td>HR SPECIALIST, US HR OPERATIONS      ...</td>\n",
       "      <td>HR</td>\n",
       "    </tr>\n",
       "    <tr>\n",
       "      <th>2</th>\n",
       "      <td>2</td>\n",
       "      <td>HR DIRECTOR       Summary      Over 2...</td>\n",
       "      <td>HR</td>\n",
       "    </tr>\n",
       "    <tr>\n",
       "      <th>3</th>\n",
       "      <td>3</td>\n",
       "      <td>HR SPECIALIST       Summary    Dedica...</td>\n",
       "      <td>HR</td>\n",
       "    </tr>\n",
       "    <tr>\n",
       "      <th>4</th>\n",
       "      <td>4</td>\n",
       "      <td>HR MANAGER         Skill Highlights  ...</td>\n",
       "      <td>HR</td>\n",
       "    </tr>\n",
       "  </tbody>\n",
       "</table>\n",
       "</div>"
      ],
      "text/plain": [
       "   Unnamed: 0                                             Resume Category\n",
       "0           0           HR ADMINISTRATOR/MARKETING ASSOCIATE\\...       HR\n",
       "1           1           HR SPECIALIST, US HR OPERATIONS      ...       HR\n",
       "2           2           HR DIRECTOR       Summary      Over 2...       HR\n",
       "3           3           HR SPECIALIST       Summary    Dedica...       HR\n",
       "4           4           HR MANAGER         Skill Highlights  ...       HR"
      ]
     },
     "execution_count": 11,
     "metadata": {},
     "output_type": "execute_result"
    }
   ],
   "source": [
    "#3read data\n",
    "resume_data=pd.read_csv('../../data/interim/intermediate_Resume.csv')\n",
    "#data=pd.read_csv('Resume.csv')\n",
    "resume_data.head()"
   ]
  },
  {
   "cell_type": "code",
   "execution_count": 12,
   "id": "27b60a34",
   "metadata": {},
   "outputs": [
    {
     "data": {
      "text/plain": [
       "Category\n",
       "INFORMATION-TECHNOLOGY    120\n",
       "BUSINESS-DEVELOPMENT      120\n",
       "FINANCE                   118\n",
       "ADVOCATE                  118\n",
       "ACCOUNTANT                118\n",
       "ENGINEERING               118\n",
       "CHEF                      118\n",
       "AVIATION                  117\n",
       "FITNESS                   117\n",
       "SALES                     116\n",
       "BANKING                   115\n",
       "HEALTHCARE                115\n",
       "CONSULTANT                115\n",
       "CONSTRUCTION              112\n",
       "PUBLIC-RELATIONS          111\n",
       "HR                        110\n",
       "DESIGNER                  107\n",
       "ARTS                      103\n",
       "TEACHER                   102\n",
       "APPAREL                    97\n",
       "DIGITAL-MEDIA              96\n",
       "AGRICULTURE                63\n",
       "AUTOMOBILE                 36\n",
       "BPO                        22\n",
       "Name: count, dtype: int64"
      ]
     },
     "execution_count": 12,
     "metadata": {},
     "output_type": "execute_result"
    }
   ],
   "source": [
    "#resume_data.drop(columns = [0], inplace = True)\n",
    "resume_data['Category'].value_counts()"
   ]
  },
  {
   "cell_type": "markdown",
   "id": "bdccb55d-2f27-4658-a429-10c0a3cdca00",
   "metadata": {},
   "source": [
    "### DATA Preprocessing"
   ]
  },
  {
   "cell_type": "code",
   "execution_count": 13,
   "id": "362eba08-643f-40c0-a13c-ca4d1d91a548",
   "metadata": {},
   "outputs": [],
   "source": [
    "def  preprocess(txt):\n",
    "    txt = txt.lower() # Convert to lowercase\n",
    "    txt = re.sub('http\\S+\\s*', ' ', txt)  # remove URLs\n",
    "    txt = re.sub('RT|cc', ' ', txt)  # remove RT and cc\n",
    "    txt = re.sub(r'<.*?>', ' ', txt)\n",
    "    # Remove special characters, digits, continous underscores and \n",
    "    txt = re.sub(r'[^\\w\\s]|_', ' ', txt)\n",
    "    txt = re.sub(r'\\d+', ' ', txt)\n",
    "    #remove non-english characters, punctuation and numbers\n",
    "    txt = re.sub('[^a-zA-Z]', ' ', txt)\n",
    "    \n",
    "    #--------------------NLP technique---------------------\n",
    "    # Tokenize the cleaned text\n",
    "    words = word_tokenize(txt)\n",
    "    # Remove stopwords\n",
    "    stop_words = set(stopwords.words('english'))\n",
    "    filtered_words = [word for word in words if word not in stop_words]\n",
    "    # Apply stemming and lemmatizing\n",
    "    lemmatizer = WordNetLemmatizer()\n",
    "    lemmatizer_words = [lemmatizer.lemmatize(word) for word in filtered_words]\n",
    "    txt = ' '.join(lemmatizer_words)\n",
    "    pos_tags = pos_tag(word_tokenize(txt))\n",
    "    pos_tags_str = ' '.join([f\"{word}_{tag}\" for word, tag in pos_tags ]) \n",
    "    return pos_tags_str\n",
    "    \n",
    "# try to remove extra word which are note important.\n",
    "def remove_extra_word(text):\n",
    "    \n",
    "    extra_word=['company_NN', 'name_NN', 'city_NN', 'state_NN'] # extra words\n",
    "    words = text.split()  # Split the text into words\n",
    "    \n",
    "    # Filter out the extra words\n",
    "    filter_word = [word for word in words if word not in extra_word]\n",
    "    \n",
    "    filter_text = ' '.join(filter_word)\n",
    "    \n",
    "    return filter_text\n"
   ]
  },
  {
   "cell_type": "code",
   "execution_count": 14,
   "id": "065c98a2-3d3e-4c0c-85ee-93ff69c0c844",
   "metadata": {},
   "outputs": [
    {
     "data": {
      "text/html": [
       "<div>\n",
       "<style scoped>\n",
       "    .dataframe tbody tr th:only-of-type {\n",
       "        vertical-align: middle;\n",
       "    }\n",
       "\n",
       "    .dataframe tbody tr th {\n",
       "        vertical-align: top;\n",
       "    }\n",
       "\n",
       "    .dataframe thead th {\n",
       "        text-align: right;\n",
       "    }\n",
       "</style>\n",
       "<table border=\"1\" class=\"dataframe\">\n",
       "  <thead>\n",
       "    <tr style=\"text-align: right;\">\n",
       "      <th></th>\n",
       "      <th>Resume</th>\n",
       "      <th>Category</th>\n",
       "      <th>Cleaned_Resume</th>\n",
       "    </tr>\n",
       "  </thead>\n",
       "  <tbody>\n",
       "    <tr>\n",
       "      <th>0</th>\n",
       "      <td>HR ADMINISTRATOR/MARKETING ASSOCIATE\\...</td>\n",
       "      <td>HR</td>\n",
       "      <td>hr_NN administrator_NN marketing_NN associate_...</td>\n",
       "    </tr>\n",
       "    <tr>\n",
       "      <th>1</th>\n",
       "      <td>HR SPECIALIST, US HR OPERATIONS      ...</td>\n",
       "      <td>HR</td>\n",
       "      <td>hr_JJ specialist_NN u_JJ hr_NN operation_NN su...</td>\n",
       "    </tr>\n",
       "    <tr>\n",
       "      <th>2</th>\n",
       "      <td>HR DIRECTOR       Summary      Over 2...</td>\n",
       "      <td>HR</td>\n",
       "      <td>hr_NNS director_NN summary_JJ year_NN experien...</td>\n",
       "    </tr>\n",
       "    <tr>\n",
       "      <th>3</th>\n",
       "      <td>HR SPECIALIST       Summary    Dedica...</td>\n",
       "      <td>HR</td>\n",
       "      <td>hr_JJ specialist_NN summary_NN dedicated_VBD d...</td>\n",
       "    </tr>\n",
       "    <tr>\n",
       "      <th>4</th>\n",
       "      <td>HR MANAGER         Skill Highlights  ...</td>\n",
       "      <td>HR</td>\n",
       "      <td>hr_NN manager_NN skill_VB highlight_VBN hr_NN ...</td>\n",
       "    </tr>\n",
       "  </tbody>\n",
       "</table>\n",
       "</div>"
      ],
      "text/plain": [
       "                                              Resume Category  \\\n",
       "0           HR ADMINISTRATOR/MARKETING ASSOCIATE\\...       HR   \n",
       "1           HR SPECIALIST, US HR OPERATIONS      ...       HR   \n",
       "2           HR DIRECTOR       Summary      Over 2...       HR   \n",
       "3           HR SPECIALIST       Summary    Dedica...       HR   \n",
       "4           HR MANAGER         Skill Highlights  ...       HR   \n",
       "\n",
       "                                      Cleaned_Resume  \n",
       "0  hr_NN administrator_NN marketing_NN associate_...  \n",
       "1  hr_JJ specialist_NN u_JJ hr_NN operation_NN su...  \n",
       "2  hr_NNS director_NN summary_JJ year_NN experien...  \n",
       "3  hr_JJ specialist_NN summary_NN dedicated_VBD d...  \n",
       "4  hr_NN manager_NN skill_VB highlight_VBN hr_NN ...  "
      ]
     },
     "execution_count": 14,
     "metadata": {},
     "output_type": "execute_result"
    }
   ],
   "source": [
    "resume_data['Cleaned_Resume']=resume_data['Resume'].apply(lambda x:preprocess(x))\n",
    "resume_data['Cleaned_Resume']=resume_data['Cleaned_Resume'].apply(lambda x:remove_extra_word(x))\n",
    "resume_data.to_csv('../../data/processed/processed_Resume.csv',index='false')\n",
    "resume_data.drop(columns = ['Unnamed: 0'] , inplace = True)\n",
    "resume_data.head()"
   ]
  },
  {
   "cell_type": "code",
   "execution_count": 15,
   "id": "4d1f2525-f9f4-45a4-ae9e-141536871448",
   "metadata": {},
   "outputs": [
    {
     "name": "stdout",
     "output_type": "stream",
     "text": [
      " \t --------------____________Before Preprocessing______________------------------------- \n",
      " \n",
      "          HR ADMINISTRATOR/MARKETING ASSOCIATE\n",
      "\n",
      "HR ADMINISTRATOR       Summary     Dedicated Customer Service Manager with 15+ years of experience in Hospitality and Customer Service Management.   Respected builder and leader of customer-focused teams; strives to instill a shared, enthusiastic commitment to customer service.         Highlights         Focused on customer satisfaction  Team management  Marketing savvy  Conflict resolution techniques     Training and development  Skilled multi-tasker  Client relations specialist           Accomplishments      Missouri DOT Supervisor Training Certification  Certified by IHG in Customer Loyalty and Marketing by Segment   Hilton Worldwide General Manager Training Certification  Accomplished Trainer for cross server hospitality systems such as    Hilton OnQ  ,   Micros    Opera PMS   , Fidelio    OPERA    Reservation System (ORS) ,   Holidex    Completed courses and seminars in customer service, sales strategies, inventory control, loss prevention, safety, time management, leadership and performance assessment.        Experience      HR Administrator/Marketing Associate\n",
      "\n",
      "HR Administrator     Dec 2013   to   Current      Company Name   －   City  ,   State     Helps to develop policies, directs and coordinates activities such as employment, compensation, labor relations, benefits, training, and employee services.  Prepares employee separation notices and related documentation  Keeps records of benefits plans participation such as insurance and pension plan, personnel transactions such as hires, promotions, transfers, performance reviews, and terminations, and employee statistics for government reporting.  Advises management in appropriate resolution of employee relations issues.  Administers benefits programs such as life, health, dental, insurance, pension plans, vacation, sick leave, leave of absence, and employee assistance.     Marketing Associate     Designed and created marketing collateral for sales meetings, trade shows and company executives.  Managed the in-house advertising program consisting of print and media collateral pieces.  Assisted in the complete design and launch of the company's website in 2 months.  Created an official company page on Facebook to facilitate interaction with customers.  Analyzed ratings and programming features of competitors to evaluate the effectiveness of marketing strategies.         Advanced Medical Claims Analyst     Mar 2012   to   Dec 2013      Company Name   －   City  ,   State     Reviewed medical bills for the accuracy of the treatments, tests, and hospital stays prior to sanctioning the claims.  Trained to interpret the codes (ICD-9, CPT) and terminology commonly used in medical billing to fully understand the paperwork that is submitted by healthcare providers.  Required to have organizational and analytical skills as well as computer skills, knowledge of medical terminology and procedures, statistics, billing standards, data analysis and laws regarding medical billing.         Assistant General Manager     Jun 2010   to   Dec 2010      Company Name   －   City  ,   State     Performed duties including but not limited to, budgeting and financial management, accounting, human resources, payroll and purchasing.  Established and maintained close working relationships with all departments of the hotel to ensure maximum operation, productivity, morale and guest service.  Handled daily operations and reported directly to the corporate office.  Hired and trained staff on overall objectives and goals with an emphasis on high customer service.  Marketing and Advertising, working on public relations with the media, government and local businesses and Chamber of Commerce.         Executive Support / Marketing Assistant     Jul 2007   to   Jun 2010      Company Name   －   City  ,   State     Provided assistance to various department heads - Executive, Marketing, Customer Service, Human Resources.  Managed front-end operations to ensure friendly and efficient transactions.  Ensured the swift resolution of customer issues to preserve customer loyalty while complying with company policies.  Exemplified the second-to-none customer service delivery in all interactions with customers and potential clients.         Reservation & Front Office Manager     Jun 2004   to   Jul 2007      Company Name   －   City  ,   State          Owner/ Partner     Dec 2001   to   May 2004      Company Name   －   City  ,   State          Price Integrity Coordinator     Aug 1999   to   Dec 2001      Company Name   －   City  ,   State          Education      N/A  ,   Business Administration   1999     Jefferson College   －   City  ,   State       Business Administration  Marketing / Advertising         High School Diploma  ,   College Prep. studies   1998     Sainte Genevieve Senior High   －   City  ,   State       Awarded American Shrubel Leadership Scholarship to Jefferson College         Skills     Accounting, ads, advertising, analytical skills, benefits, billing, budgeting, clients, Customer Service, data analysis, delivery, documentation, employee relations, financial management, government relations, Human Resources, insurance, labor relations, layout, Marketing, marketing collateral, medical billing, medical terminology, office, organizational, payroll, performance reviews, personnel, policies, posters, presentations, public relations, purchasing, reporting, statistics, website.    \n",
      "\n",
      " \n",
      " \t --------------____________After Preprocessing______________-------------------------\n",
      " \n",
      " hr_NN administrator_NN marketing_NN associate_JJ hr_NN administrator_NN summary_NN dedicated_VBN customer_NN service_NN manager_NN year_NN experience_NN hospitality_NN customer_NN service_NN management_NN respected_VBD builder_NN leader_NN customer_NN focused_VBD team_NN strives_NNS instill_VBP shared_VBN enthusiastic_JJ commitment_NN customer_NN service_NN highlight_NN focused_VBD customer_NN satisfaction_NN team_NN management_NN marketing_NN savvy_NN conflict_NN resolution_NN technique_NN training_NN development_NN skilled_VBD multi_NNS tasker_NN client_NN relation_NN specialist_NN omplishments_NNS missouri_VBP dot_NN supervisor_NN training_NN certification_NN certified_VBD ihg_JJ customer_NN loyalty_NN marketing_NN segment_NN hilton_NN worldwide_IN general_JJ manager_NN training_NN certification_NN omplished_VBD trainer_NN cross_NN server_NN hospitality_NN system_NN hilton_NN onq_VBZ micros_NNS opera_IN pm_NN fidelio_NN opera_NN reservation_NN system_NN or_CC holidex_NN completed_VBN course_NN seminar_NN customer_NN service_NN sale_NN strategy_NN inventory_NN control_NN loss_NN prevention_NN safety_NN time_NN management_NN leadership_NN performance_NN assessment_NN experience_NN hr_NN administrator_NN marketing_NN associate_JJ hr_NN administrator_NN dec_NN current_JJ help_NN develop_VB policy_NN directs_NNS coordinate_VBP activity_NN employment_NN compensation_NN labor_NN relation_NN benefit_NN training_VBG employee_NN service_NN prepares_VBZ employee_NN separation_NN notice_RB related_VBN documentation_NN keep_NN record_NN benefit_NN plan_NN participation_NN insurance_NN pension_NN plan_NN personnel_NNS transaction_NN hire_NN promotion_NN transfer_NN performance_NN review_NN termination_NN employee_NN statistic_JJ government_NN reporting_NN advises_VBZ management_NN appropriate_JJ resolution_NN employee_NN relation_NN issue_NN administers_NNS benefit_VBP program_NN life_NN health_NN dental_JJ insurance_NN pension_NN plan_NN vacation_NN sick_JJ leave_VBP leave_VBN absence_NN employee_NN assistance_NN marketing_NN associate_NN designed_VBN created_VBD marketing_NN collateral_NN sale_NN meeting_NN trade_NN show_NN executive_NN managed_VBD house_NN advertising_NN program_NN consisting_VBG print_NN medium_NN collateral_NN piece_NN assisted_VBD complete_JJ design_NN launch_NN website_JJ month_NN created_VBD official_JJ page_NN facebook_NN facilitate_NN interaction_NN customer_NN analyzed_VBD rating_NN programming_NN feature_NN competitor_NN evaluate_NN effectiveness_NN marketing_NN strategy_NN advanced_VBD medical_JJ claim_NN analyst_NN mar_NN dec_VBZ reviewed_VBD medical_JJ bill_NN uracy_NN treatment_NN test_NN hospital_NN stay_NN prior_RB sanctioning_VBG claim_NN trained_VBD interpret_JJ code_NN icd_NN cpt_NN terminology_NN commonly_RB used_VBD medical_JJ billing_NN fully_RB understand_JJ paperwork_NN submitted_VBN healthcare_JJ provider_NN required_VBN organizational_JJ analytical_JJ skill_NN well_RB computer_NN skill_NN knowledge_NNP medical_JJ terminology_NN procedure_NN statistic_JJ billing_NN standard_NN data_NNS analysis_NN law_NN regarding_VBG medical_JJ billing_NN assistant_NN general_JJ manager_NN jun_NN dec_NN performed_VBD duty_NN including_VBG limited_JJ budgeting_VBG financial_JJ management_NN ounting_VBG human_JJ resource_NN payroll_NN purchasing_VBG established_VBN maintained_VBN close_RB working_VBG relationship_NN department_NN hotel_NN ensure_VB maximum_JJ operation_NN productivity_NN morale_NN guest_NN service_NN handled_VBD daily_JJ operation_NN reported_VBD directly_RB corporate_JJ office_NN hired_VBD trained_JJ staff_NN overall_JJ objective_JJ goal_NN emphasis_NN high_JJ customer_NN service_NN marketing_NN advertising_NN working_VBG public_JJ relation_NN medium_NN government_NN local_JJ business_NN chamber_NN commerce_NN executive_NN support_NN marketing_NN assistant_NN jul_NN jun_NN provided_VBD assistance_RB various_JJ department_NN head_NN executive_NN marketing_NN customer_NN service_NN human_JJ resource_NN managed_VBD front_JJ end_NN operation_NN ensure_VB friendly_JJ efficient_JJ transaction_NN ensured_VBD swift_JJ resolution_NN customer_NN issue_NN preserve_VB customer_NN loyalty_NN complying_VBG policy_NN exemplified_VBD second_JJ none_NN customer_NN service_NN delivery_NN interaction_NN customer_NN potential_JJ client_NN reservation_NN front_JJ office_NN manager_NN jun_NN jul_NN owner_NN partner_NN dec_NN may_MD name_VB price_NN integrity_NN coordinator_NN aug_NN dec_NN education_NN n_NN business_NN administration_NN jefferson_NN college_NN business_NN administration_NN marketing_NN advertising_NN high_JJ school_NN diploma_NN college_NN prep_NN study_NN sainte_VBD genevieve_RB senior_JJ high_JJ awarded_VBD american_JJ shrubel_NN leadership_NN scholarship_NN jefferson_NN college_NN skill_NN ounting_VBG ad_NN advertising_NN analytical_JJ skill_NN benefit_VB billing_NN budgeting_NN client_NN customer_NN service_NN data_NNS analysis_NN delivery_NN documentation_NN employee_NN relation_NN financial_JJ management_NN government_NN relation_NN human_JJ resource_NN insurance_NN labor_NN relation_NN layout_IN marketing_VBG marketing_NN collateral_NN medical_JJ billing_NN medical_JJ terminology_NN office_NN organizational_JJ payroll_NN performance_NN review_NN personnel_NNS policy_NN poster_NN presentation_NN public_JJ relation_NN purchasing_VBG reporting_VBG statistic_JJ website_NN\n"
     ]
    }
   ],
   "source": [
    "print(\" \\t --------------____________Before Preprocessing______________------------------------- \\n \\n\",resume_data['Resume'][0])\n",
    "print(\"\\n \\n \\t --------------____________After Preprocessing______________-------------------------\\n \\n\",resume_data['Cleaned_Resume'][0])"
   ]
  },
  {
   "cell_type": "markdown",
   "id": "93a575b9-c1d0-4ada-8e6c-ce1d6bd466e2",
   "metadata": {},
   "source": [
    "=>C. Label encoding of Category columns"
   ]
  },
  {
   "cell_type": "code",
   "execution_count": 16,
   "id": "b3ffce2f-e0e0-4e15-a583-f34d44a59153",
   "metadata": {},
   "outputs": [
    {
     "data": {
      "text/html": [
       "<div>\n",
       "<style scoped>\n",
       "    .dataframe tbody tr th:only-of-type {\n",
       "        vertical-align: middle;\n",
       "    }\n",
       "\n",
       "    .dataframe tbody tr th {\n",
       "        vertical-align: top;\n",
       "    }\n",
       "\n",
       "    .dataframe thead th {\n",
       "        text-align: right;\n",
       "    }\n",
       "</style>\n",
       "<table border=\"1\" class=\"dataframe\">\n",
       "  <thead>\n",
       "    <tr style=\"text-align: right;\">\n",
       "      <th></th>\n",
       "      <th>Resume</th>\n",
       "      <th>Category</th>\n",
       "      <th>Cleaned_Resume</th>\n",
       "    </tr>\n",
       "  </thead>\n",
       "  <tbody>\n",
       "    <tr>\n",
       "      <th>0</th>\n",
       "      <td>HR ADMINISTRATOR/MARKETING ASSOCIATE\\...</td>\n",
       "      <td>19</td>\n",
       "      <td>hr_NN administrator_NN marketing_NN associate_...</td>\n",
       "    </tr>\n",
       "    <tr>\n",
       "      <th>1</th>\n",
       "      <td>HR SPECIALIST, US HR OPERATIONS      ...</td>\n",
       "      <td>19</td>\n",
       "      <td>hr_JJ specialist_NN u_JJ hr_NN operation_NN su...</td>\n",
       "    </tr>\n",
       "    <tr>\n",
       "      <th>2</th>\n",
       "      <td>HR DIRECTOR       Summary      Over 2...</td>\n",
       "      <td>19</td>\n",
       "      <td>hr_NNS director_NN summary_JJ year_NN experien...</td>\n",
       "    </tr>\n",
       "    <tr>\n",
       "      <th>3</th>\n",
       "      <td>HR SPECIALIST       Summary    Dedica...</td>\n",
       "      <td>19</td>\n",
       "      <td>hr_JJ specialist_NN summary_NN dedicated_VBD d...</td>\n",
       "    </tr>\n",
       "    <tr>\n",
       "      <th>4</th>\n",
       "      <td>HR MANAGER         Skill Highlights  ...</td>\n",
       "      <td>19</td>\n",
       "      <td>hr_NN manager_NN skill_VB highlight_VBN hr_NN ...</td>\n",
       "    </tr>\n",
       "  </tbody>\n",
       "</table>\n",
       "</div>"
      ],
      "text/plain": [
       "                                              Resume  Category  \\\n",
       "0           HR ADMINISTRATOR/MARKETING ASSOCIATE\\...        19   \n",
       "1           HR SPECIALIST, US HR OPERATIONS      ...        19   \n",
       "2           HR DIRECTOR       Summary      Over 2...        19   \n",
       "3           HR SPECIALIST       Summary    Dedica...        19   \n",
       "4           HR MANAGER         Skill Highlights  ...        19   \n",
       "\n",
       "                                      Cleaned_Resume  \n",
       "0  hr_NN administrator_NN marketing_NN associate_...  \n",
       "1  hr_JJ specialist_NN u_JJ hr_NN operation_NN su...  \n",
       "2  hr_NNS director_NN summary_JJ year_NN experien...  \n",
       "3  hr_JJ specialist_NN summary_NN dedicated_VBD d...  \n",
       "4  hr_NN manager_NN skill_VB highlight_VBN hr_NN ...  "
      ]
     },
     "execution_count": 16,
     "metadata": {},
     "output_type": "execute_result"
    }
   ],
   "source": [
    "from sklearn.preprocessing import LabelEncoder\n",
    "encoder=LabelEncoder()\n",
    "# encoding and transfrom\n",
    "resume_data['Category']=encoder.fit_transform(resume_data['Category'])\n",
    "resume_data.to_csv('../../data/processed/processfinal_Resume.csv',index='false')\n",
    "resume_data.head()"
   ]
  },
  {
   "cell_type": "code",
   "execution_count": 17,
   "id": "8c4c2a11-bc29-4b24-816e-9815486d6dcd",
   "metadata": {},
   "outputs": [
    {
     "data": {
      "text/plain": [
       "array([19, 13, 20, 23,  1,  9, 18, 17,  2,  8, 22, 12, 14,  5, 10, 16,  3,\n",
       "       15,  0, 11, 21,  7,  4,  6])"
      ]
     },
     "execution_count": 17,
     "metadata": {},
     "output_type": "execute_result"
    }
   ],
   "source": [
    "resume_data.Category.unique()"
   ]
  },
  {
   "cell_type": "code",
   "execution_count": null,
   "id": "8e1c99c6-9c1d-43f8-9673-8b01f5c23ef3",
   "metadata": {},
   "outputs": [],
   "source": []
  }
 ],
 "metadata": {
  "kernelspec": {
   "display_name": "Python 3 (ipykernel)",
   "language": "python",
   "name": "python3"
  },
  "language_info": {
   "codemirror_mode": {
    "name": "ipython",
    "version": 3
   },
   "file_extension": ".py",
   "mimetype": "text/x-python",
   "name": "python",
   "nbconvert_exporter": "python",
   "pygments_lexer": "ipython3",
   "version": "3.10.12"
  }
 },
 "nbformat": 4,
 "nbformat_minor": 5
}
